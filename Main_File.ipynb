{
 "cells": [
  {
   "cell_type": "code",
   "execution_count": 1,
   "id": "306b97d8",
   "metadata": {},
   "outputs": [
    {
     "name": "stdout",
     "output_type": "stream",
     "text": [
      "Index(['url', 'length_url', 'length_hostname', 'ip', 'nb_dots', 'nb_hyphens',\n",
      "       'nb_at', 'nb_qm', 'nb_and', 'nb_or', 'nb_eq', 'nb_underscore',\n",
      "       'nb_tilde', 'nb_percent', 'nb_slash', 'nb_star', 'nb_colon', 'nb_comma',\n",
      "       'nb_semicolumn', 'nb_dollar', 'nb_space', 'nb_www', 'nb_com',\n",
      "       'nb_dslash', 'http_in_path', 'https_token', 'ratio_digits_url',\n",
      "       'ratio_digits_host', 'punycode', 'port', 'tld_in_path',\n",
      "       'tld_in_subdomain', 'abnormal_subdomain', 'nb_subdomains',\n",
      "       'prefix_suffix', 'random_domain', 'shortening_service',\n",
      "       'path_extension', 'nb_redirection', 'nb_external_redirection',\n",
      "       'length_words_raw', 'char_repeat', 'shortest_words_raw',\n",
      "       'shortest_word_host', 'shortest_word_path', 'longest_words_raw',\n",
      "       'longest_word_host', 'longest_word_path', 'avg_words_raw',\n",
      "       'avg_word_host', 'avg_word_path', 'phish_hints', 'domain_in_brand',\n",
      "       'brand_in_subdomain', 'brand_in_path', 'suspecious_tld',\n",
      "       'statistical_report', 'nb_hyperlinks', 'ratio_intHyperlinks',\n",
      "       'ratio_extHyperlinks', 'ratio_nullHyperlinks', 'nb_extCSS',\n",
      "       'ratio_intRedirection', 'ratio_extRedirection', 'ratio_intErrors',\n",
      "       'ratio_extErrors', 'login_form', 'external_favicon', 'links_in_tags',\n",
      "       'submit_email', 'ratio_intMedia', 'ratio_extMedia', 'sfh', 'iframe',\n",
      "       'popup_window', 'safe_anchor', 'onmouseover', 'right_clic',\n",
      "       'empty_title', 'domain_in_title', 'domain_with_copyright',\n",
      "       'whois_registered_domain', 'domain_registration_length', 'domain_age',\n",
      "       'web_traffic', 'dns_record', 'google_index', 'page_rank', 'status'],\n",
      "      dtype='object')\n",
      "                                                 url  length_url  \\\n",
      "0              http://www.crestonwood.com/router.php          37   \n",
      "1  http://shadetreetechnology.com/V4/validation/a...          77   \n",
      "2  https://support-appleld.com.secureupdate.duila...         126   \n",
      "3                                 http://rgipt.ac.in          18   \n",
      "4  http://www.iracing.com/tracks/gateway-motorspo...          55   \n",
      "\n",
      "   length_hostname  ip  nb_dots  nb_hyphens  nb_at  nb_qm  nb_and  nb_or  ...  \\\n",
      "0               19   0        3           0      0      0       0      0  ...   \n",
      "1               23   1        1           0      0      0       0      0  ...   \n",
      "2               50   1        4           1      0      1       2      0  ...   \n",
      "3               11   0        2           0      0      0       0      0  ...   \n",
      "4               15   0        2           2      0      0       0      0  ...   \n",
      "\n",
      "   domain_in_title  domain_with_copyright  whois_registered_domain  \\\n",
      "0                0                      1                        0   \n",
      "1                1                      0                        0   \n",
      "2                1                      0                        0   \n",
      "3                1                      0                        0   \n",
      "4                0                      1                        0   \n",
      "\n",
      "   domain_registration_length  domain_age  web_traffic  dns_record  \\\n",
      "0                          45          -1            0           1   \n",
      "1                          77        5767            0           0   \n",
      "2                          14        4004      5828815           0   \n",
      "3                          62          -1       107721           0   \n",
      "4                         224        8175         8725           0   \n",
      "\n",
      "   google_index  page_rank      status  \n",
      "0             1          4  legitimate  \n",
      "1             1          2    phishing  \n",
      "2             1          0    phishing  \n",
      "3             0          3  legitimate  \n",
      "4             0          6  legitimate  \n",
      "\n",
      "[5 rows x 89 columns]\n"
     ]
    }
   ],
   "source": [
    "import pandas as pd\n",
    "\n",
    "# Load dataset\n",
    "df = pd.read_csv('dataset_phishing.csv')\n",
    "\n",
    "# Quickly preview data\n",
    "print(df.columns)        # See available column names\n",
    "print(df.head())         # Preview first few rows\n"
   ]
  },
  {
   "cell_type": "code",
   "execution_count": 2,
   "id": "80cfa97b",
   "metadata": {},
   "outputs": [],
   "source": [
    "import re\n",
    "from urllib.parse import urlparse\n",
    "\n",
    "def extract_url_features(url):\n",
    "    uses_https = int(urlparse(url).scheme == 'https')\n",
    "    url_length = len(url)\n",
    "    num_dots = url.count('.')\n",
    "    has_ip = int(bool(re.search(r'(\\d{1,3}\\.){3}\\d{1,3}', urlparse(url).netloc)))\n",
    "    parsed = urlparse(url)\n",
    "    has_at = '@' in url\n",
    "    double_slash_in_path = '//' in parsed.path\n",
    "    has_suspicious_chars = int(has_at or double_slash_in_path)\n",
    "    return [uses_https, url_length, num_dots, has_ip, has_suspicious_chars]\n",
    "\n",
    "feature_names = ['uses_https', 'url_length', 'num_dots', 'has_ip', 'has_suspicious_chars']\n",
    "X = df['url'].apply(extract_url_features)\n",
    "X = pd.DataFrame(X.tolist(), columns=feature_names)\n",
    "\n",
    "y = df['status'].map({'phishing': 1, 'legitimate': 0})  # Converts label to 1/0\n"
   ]
  },
  {
   "cell_type": "code",
   "execution_count": 3,
   "id": "1ddd7456",
   "metadata": {},
   "outputs": [
    {
     "data": {
      "text/html": [
       "<style>#sk-container-id-1 {color: black;}#sk-container-id-1 pre{padding: 0;}#sk-container-id-1 div.sk-toggleable {background-color: white;}#sk-container-id-1 label.sk-toggleable__label {cursor: pointer;display: block;width: 100%;margin-bottom: 0;padding: 0.3em;box-sizing: border-box;text-align: center;}#sk-container-id-1 label.sk-toggleable__label-arrow:before {content: \"▸\";float: left;margin-right: 0.25em;color: #696969;}#sk-container-id-1 label.sk-toggleable__label-arrow:hover:before {color: black;}#sk-container-id-1 div.sk-estimator:hover label.sk-toggleable__label-arrow:before {color: black;}#sk-container-id-1 div.sk-toggleable__content {max-height: 0;max-width: 0;overflow: hidden;text-align: left;background-color: #f0f8ff;}#sk-container-id-1 div.sk-toggleable__content pre {margin: 0.2em;color: black;border-radius: 0.25em;background-color: #f0f8ff;}#sk-container-id-1 input.sk-toggleable__control:checked~div.sk-toggleable__content {max-height: 200px;max-width: 100%;overflow: auto;}#sk-container-id-1 input.sk-toggleable__control:checked~label.sk-toggleable__label-arrow:before {content: \"▾\";}#sk-container-id-1 div.sk-estimator input.sk-toggleable__control:checked~label.sk-toggleable__label {background-color: #d4ebff;}#sk-container-id-1 div.sk-label input.sk-toggleable__control:checked~label.sk-toggleable__label {background-color: #d4ebff;}#sk-container-id-1 input.sk-hidden--visually {border: 0;clip: rect(1px 1px 1px 1px);clip: rect(1px, 1px, 1px, 1px);height: 1px;margin: -1px;overflow: hidden;padding: 0;position: absolute;width: 1px;}#sk-container-id-1 div.sk-estimator {font-family: monospace;background-color: #f0f8ff;border: 1px dotted black;border-radius: 0.25em;box-sizing: border-box;margin-bottom: 0.5em;}#sk-container-id-1 div.sk-estimator:hover {background-color: #d4ebff;}#sk-container-id-1 div.sk-parallel-item::after {content: \"\";width: 100%;border-bottom: 1px solid gray;flex-grow: 1;}#sk-container-id-1 div.sk-label:hover label.sk-toggleable__label {background-color: #d4ebff;}#sk-container-id-1 div.sk-serial::before {content: \"\";position: absolute;border-left: 1px solid gray;box-sizing: border-box;top: 0;bottom: 0;left: 50%;z-index: 0;}#sk-container-id-1 div.sk-serial {display: flex;flex-direction: column;align-items: center;background-color: white;padding-right: 0.2em;padding-left: 0.2em;position: relative;}#sk-container-id-1 div.sk-item {position: relative;z-index: 1;}#sk-container-id-1 div.sk-parallel {display: flex;align-items: stretch;justify-content: center;background-color: white;position: relative;}#sk-container-id-1 div.sk-item::before, #sk-container-id-1 div.sk-parallel-item::before {content: \"\";position: absolute;border-left: 1px solid gray;box-sizing: border-box;top: 0;bottom: 0;left: 50%;z-index: -1;}#sk-container-id-1 div.sk-parallel-item {display: flex;flex-direction: column;z-index: 1;position: relative;background-color: white;}#sk-container-id-1 div.sk-parallel-item:first-child::after {align-self: flex-end;width: 50%;}#sk-container-id-1 div.sk-parallel-item:last-child::after {align-self: flex-start;width: 50%;}#sk-container-id-1 div.sk-parallel-item:only-child::after {width: 0;}#sk-container-id-1 div.sk-dashed-wrapped {border: 1px dashed gray;margin: 0 0.4em 0.5em 0.4em;box-sizing: border-box;padding-bottom: 0.4em;background-color: white;}#sk-container-id-1 div.sk-label label {font-family: monospace;font-weight: bold;display: inline-block;line-height: 1.2em;}#sk-container-id-1 div.sk-label-container {text-align: center;}#sk-container-id-1 div.sk-container {/* jupyter's `normalize.less` sets `[hidden] { display: none; }` but bootstrap.min.css set `[hidden] { display: none !important; }` so we also need the `!important` here to be able to override the default hidden behavior on the sphinx rendered scikit-learn.org. See: https://github.com/scikit-learn/scikit-learn/issues/21755 */display: inline-block !important;position: relative;}#sk-container-id-1 div.sk-text-repr-fallback {display: none;}</style><div id=\"sk-container-id-1\" class=\"sk-top-container\"><div class=\"sk-text-repr-fallback\"><pre>RandomForestClassifier(random_state=42)</pre><b>In a Jupyter environment, please rerun this cell to show the HTML representation or trust the notebook. <br />On GitHub, the HTML representation is unable to render, please try loading this page with nbviewer.org.</b></div><div class=\"sk-container\" hidden><div class=\"sk-item\"><div class=\"sk-estimator sk-toggleable\"><input class=\"sk-toggleable__control sk-hidden--visually\" id=\"sk-estimator-id-1\" type=\"checkbox\" checked><label for=\"sk-estimator-id-1\" class=\"sk-toggleable__label sk-toggleable__label-arrow\">RandomForestClassifier</label><div class=\"sk-toggleable__content\"><pre>RandomForestClassifier(random_state=42)</pre></div></div></div></div></div>"
      ],
      "text/plain": [
       "RandomForestClassifier(random_state=42)"
      ]
     },
     "execution_count": 3,
     "metadata": {},
     "output_type": "execute_result"
    }
   ],
   "source": [
    "from sklearn.model_selection import train_test_split\n",
    "from sklearn.ensemble import RandomForestClassifier\n",
    "\n",
    "# Split data (80% train, 20% test)\n",
    "X_train, X_test, y_train, y_test = train_test_split(X, y, test_size=0.2, random_state=42, stratify=y)\n",
    "\n",
    "# Train model\n",
    "model = RandomForestClassifier(n_estimators=100, random_state=42)\n",
    "model.fit(X_train, y_train)\n"
   ]
  },
  {
   "cell_type": "code",
   "execution_count": 4,
   "id": "ab0f5a28",
   "metadata": {},
   "outputs": [
    {
     "name": "stdout",
     "output_type": "stream",
     "text": [
      "Accuracy: 0.6767279090113736\n",
      "              precision    recall  f1-score   support\n",
      "\n",
      "           0       0.66      0.73      0.69      1143\n",
      "           1       0.70      0.62      0.66      1143\n",
      "\n",
      "    accuracy                           0.68      2286\n",
      "   macro avg       0.68      0.68      0.68      2286\n",
      "weighted avg       0.68      0.68      0.68      2286\n",
      "\n"
     ]
    }
   ],
   "source": [
    "from sklearn.metrics import accuracy_score, classification_report\n",
    "\n",
    "y_pred = model.predict(X_test)\n",
    "print(\"Accuracy:\", accuracy_score(y_test, y_pred))\n",
    "print(classification_report(y_test, y_pred))\n"
   ]
  },
  {
   "cell_type": "code",
   "execution_count": 5,
   "id": "379d3186",
   "metadata": {},
   "outputs": [
    {
     "data": {
      "text/plain": [
       "['phishing_rf_model.pkl']"
      ]
     },
     "execution_count": 5,
     "metadata": {},
     "output_type": "execute_result"
    }
   ],
   "source": [
    "import joblib\n",
    "joblib.dump(model, \"phishing_rf_model.pkl\")\n"
   ]
  },
  {
   "cell_type": "raw",
   "id": "e9e58877",
   "metadata": {},
   "source": [
    "import os\n",
    "print(os.getcwd())\n"
   ]
  },
  {
   "cell_type": "code",
   "execution_count": 7,
   "id": "a9db598c",
   "metadata": {},
   "outputs": [
    {
     "name": "stdout",
     "output_type": "stream",
     "text": [
      "['Untitled Folder', 'prac9.py', 'Untitled10.ipynb', '.zshrc.save', 'Untitled7.ipynb', '.eclipse', 'sar3b.sh', '.config', 'Music', 'MEGABASTERD_UPLOAD_LOGS', 'u.item', '.zprofile.pysave', 'AAPL_stock_data.csv', '.condarc', '.docker', 'sar4c.sh', 'tempCodeRunnerFile', 'labels.csv', 'Untitled12.ipynb', '.codeium', 'Untitled5.ipynb', 'Clang', 'Untitled1.ipynb', '2aa.sh', 'index.html', 'shdd.sh', '.DS_Store', 'sar4b.sh', '.CFUserTextEncoding', 'phishing_rf_model.pkl', 'Apriori.ipynb', '.xonshrc', 'sar3c.sh', '.bash_profile.save', 'Untitled3.ipynb', 'Untitled14.ipynb', 'Untitled.ipynb', 'songdataset.csv', '.zshrc', '.packettracer', '.templateengine', 'Untitled4.ipynb', 'extracted_code.ipynb', '.streamlit', '.local', 'Untitled13.ipynb', 'Untitled6.ipynb', 'Pictures', 'Untitled11.ipynb', '.atom', '.zprofile', '.tabnine', 'MEGA downloads', 'sar4.sh', 'movie_by_name.py', '2a.sh', '.nuget', 'dog_breed_detection.ipynb', 'dataset_phishing.csv', '.zsh_history', 'Untitled2.ipynb', '.p2', '.ipython', 'Desktop', 'Library', 'Standard Notes Backups', '.matplotlib', 'Consumer Producer_OS.ipynb', 'n.shy', 'iCloud Drive (Archive)', '.zenmap', '.IdentityService', 'QUOTATION FOR Mr. Gian Chand.pdf', 'neww_text1.txt', '.nuuid.ini', '2b.sh', '.android', '.pgadmin', 'ECLAT_ML.ipynb', '.bash_sessions', '.DDPreview', 'sar3.sh', 'new1.sql', 'PycharmProjects', 'Public', 'text1', 'sar40.py', '.zshenv', '.idlerc', 'copy_neww_text1.txt', '.tcshrc', 'config.ipynb', 'vertopal.com_Stock Market Analysis.pdf', '.anaconda', 'sar.sh', 'Untitled8.ipynb', '.ssh', 'Movies', '.dotnet', 'Applications', '#include<stdio.h>', 'opt', '.Trash', 'Data Exploration_main.ipynb', 'test.txt', '.ipynb_checkpoints', '.zshrc.swp', 'sar2d.sh', '.jupyter', '.keras', '.knime', 'Documents', '.azuredatastudio', 'dwhelper', 'Wondershare', 'pandas.tar.gz', '.mysql_history', 'shhd.sh', '.mono', '.vscode', '00dog-breed-identification.py', 'untitled', '.bash_profile', '.swiftpm', '.equo', 'Freeway', '.aspnet', 'anaconda3', 'Downloads', '.python_history', '.DDLocalBackups', '.continuum', '.cache', 'sar4d.sh', '.gitconfig', 'FPGrowth_ML.ipynb', 'sar2a.sh', 'Untitled9.ipynb', 'sar3a.sh', '.bash_history', '.viminfo', '.zsh_sessions', 'song-dataset.csv', '.conda', '.pymobiledevice3', 'final now.pptx']\n"
     ]
    }
   ],
   "source": [
    "import os\n",
    "print(os.listdir())\n"
   ]
  },
  {
   "cell_type": "code",
   "execution_count": null,
   "id": "c3e22d6c",
   "metadata": {},
   "outputs": [],
   "source": []
  }
 ],
 "metadata": {
  "kernelspec": {
   "display_name": "Python 3 (ipykernel)",
   "language": "python",
   "name": "python3"
  },
  "language_info": {
   "codemirror_mode": {
    "name": "ipython",
    "version": 3
   },
   "file_extension": ".py",
   "mimetype": "text/x-python",
   "name": "python",
   "nbconvert_exporter": "python",
   "pygments_lexer": "ipython3",
   "version": "3.11.5"
  }
 },
 "nbformat": 4,
 "nbformat_minor": 5
}
